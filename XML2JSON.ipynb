{
 "cells": [
  {
   "cell_type": "markdown",
   "metadata": {},
   "source": [
    "# XML2JSON\n",
    "Este notebook contiene el código necesario para transformar las detecciones de archivos XML a formato VGG en archivos JSON."
   ]
  },
  {
   "cell_type": "code",
   "execution_count": null,
   "metadata": {},
   "outputs": [],
   "source": [
    "import json\n",
    "import xml.etree.ElementTree as etree\n",
    "import cv2\n",
    "import os\n",
    "from collections import OrderedDict\n",
    "import glob\n",
    "import numpy as np"
   ]
  },
  {
   "cell_type": "markdown",
   "metadata": {},
   "source": [
    "# Leer todos los groundtruth y poner a negro zonas ignoradas\n",
    "Antes de entrenar es necesario tapar las zonas que deben ser ignoradas porque debido a la distancia los coches todavía son muy pequeños para ser detectados"
   ]
  },
  {
   "cell_type": "code",
   "execution_count": null,
   "metadata": {},
   "outputs": [],
   "source": [
    "# Pasar zona ignorada a negro (1 imagen)\n",
    "image_path = \"MVI_20011/img00001.jpg\"\n",
    "image = cv2.imread(image_path)\n",
    "tree = etree.parse('MVI_20011.xml')\n",
    "\n",
    "ignored_zones = tree.findall(\"./ignored_region/*\")\n",
    "\n",
    "for n, black_box in enumerate(ignored_zones):\n",
    "    col_min = int(float(black_box.get(\"left\")))\n",
    "    row_min = int(float(black_box.get(\"top\")))\n",
    "    col_max = int(float(black_box.get(\"left\"))) + int(float(black_box.get(\"width\")))\n",
    "    row_max = int(float(black_box.get(\"top\"))) + int(float(black_box.get(\"height\")))\n",
    "    print([col_min,row_min,col_max,row_max])\n",
    "    cv2.rectangle(\n",
    "        img=image,\n",
    "        pt1=(col_min, row_min),\n",
    "        pt2=(col_max, row_max),\n",
    "        color=(0,0,0),\n",
    "        thickness=-1)\n",
    "\n",
    "cv2.imwrite(\"prueba.png\",image)"
   ]
  },
  {
   "cell_type": "code",
   "execution_count": null,
   "metadata": {},
   "outputs": [],
   "source": [
    "# Pasar una carpeta a negro\n",
    "gt = \"MVI_20011.xml\"\n",
    "print(os.path.basename(gt[:-4]))\n",
    "folder = os.path.basename(gt[:-4])\n",
    "for image_path in glob.glob('folder + '/*.jpg'):\n",
    "    image = cv2.imread(image_path)\n",
    "    tree = etree.parse(gt)\n",
    "    \n",
    "    ignored_zones = tree.findall(\"./ignored_region/*\")\n",
    "\n",
    "    for n, black_box in enumerate(ignored_zones):\n",
    "        col_min = int(float(black_box.get(\"left\")))\n",
    "        row_min = int(float(black_box.get(\"top\")))\n",
    "        col_max = int(float(black_box.get(\"left\"))) + int(float(black_box.get(\"width\")))\n",
    "        row_max = int(float(black_box.get(\"top\"))) + int(float(black_box.get(\"height\")))\n",
    "        cv2.rectangle(\n",
    "            img=image,\n",
    "            pt1=(col_min, row_min),\n",
    "            pt2=(col_max, row_max),\n",
    "            color=(0,0,0),\n",
    "            thickness=-1)\n",
    "\n",
    "    cv2.imwrite(image_path,image)"
   ]
  },
  {
   "cell_type": "code",
   "execution_count": null,
   "metadata": {
    "scrolled": true
   },
   "outputs": [],
   "source": [
    "# Pasar todo el dataset a negro\n",
    "for gt in glob.glob(\"Datasets/DETRAC/DETRAC-Train-Annotations-XML/*.xml\"):\n",
    "    print(os.path.basename(gt[:-4]))\n",
    "    folder = os.path.basename(gt[:-4])\n",
    "    \n",
    "    for image_path in glob.glob('Datasets/DETRAC/Insight-MVT_Annotation_Train/' + folder + '/*.jpg'):\n",
    "        image = cv2.imread(image_path)\n",
    "        tree = etree.parse(gt)\n",
    "\n",
    "        ignored_zones = tree.findall(\"./ignored_region/*\")\n",
    "\n",
    "        for n, black_box in enumerate(ignored_zones):\n",
    "            col_min = int(float(black_box.get(\"left\")))\n",
    "            row_min = int(float(black_box.get(\"top\")))\n",
    "            col_max = int(float(black_box.get(\"left\"))) + int(float(black_box.get(\"width\")))\n",
    "            row_max = int(float(black_box.get(\"top\"))) + int(float(black_box.get(\"height\")))\n",
    "            cv2.rectangle(\n",
    "                img=image,\n",
    "                pt1=(col_min, row_min),\n",
    "                pt2=(col_max, row_max),\n",
    "                color=(0,0,0),\n",
    "                thickness=-1)\n",
    "\n",
    "        cv2.imwrite(image_path,image)"
   ]
  },
  {
   "cell_type": "markdown",
   "metadata": {},
   "source": [
    "# Exportar todas las anotaciones a archivos individuales\n",
    "Es necesario convertir las anotaciones a un solo archivo por vídeo para realizar el entrenamiento"
   ]
  },
  {
   "cell_type": "code",
   "execution_count": null,
   "metadata": {},
   "outputs": [],
   "source": [
    "# Prueba para una imagen\n",
    "image_path = \"MVI_20011/img00001.jpg\"\n",
    "tree = etree.parse('MVI_20011.xml')\n",
    "\n",
    "# JSON\n",
    "img = cv2.imread(image_path)\n",
    "image_size = os.stat(image_path).st_size # Tamanho\n",
    "image_name = \"img00001.jpg\"    # Nombre\n",
    "\n",
    "vgg_key = \"{}{}\".format(image_name, image_size)\n",
    "vgg_main = {vgg_key: OrderedDict()}\n",
    "\n",
    "# Datos generales\n",
    "vgg = vgg_main[vgg_key]\n",
    "vgg[\"fileref\"] = \"\"\n",
    "vgg[\"size\"] = image_size\n",
    "vgg[\"filename\"] = image_name\n",
    "vgg[\"base64_img_data\"] = \"\"\n",
    "vgg[\"file_attributes\"] = {}\n",
    "vgg[\"regions\"] = OrderedDict()\n",
    "\n",
    "\n",
    "# Anotaciones\n",
    "id = int(image_path[13:-4])  # Busco que frame estoy procesando\n",
    "\n",
    "xml_frame = tree.findall(\"./frame[@num=\\'\" + str(id) + \"\\']/target_list/target\")\n",
    "for n, detection in enumerate(xml_frame):\n",
    "    n = str(n)\n",
    "    \n",
    "    vgg[\"regions\"][n] = OrderedDict()\n",
    "    vgg[\"regions\"][n][\"shape_attributes\"] = OrderedDict()\n",
    "    vgg[\"regions\"][n][\"shape_attributes\"][\"name\"] = \"rect\"\n",
    "    vgg[\"regions\"][n][\"shape_attributes\"][\"x\"] = detection[0].get(\"left\")\n",
    "    vgg[\"regions\"][n][\"shape_attributes\"][\"y\"] = detection[0].get(\"top\")\n",
    "    vgg[\"regions\"][n][\"shape_attributes\"][\"width\"] = detection[0].get(\"width\")\n",
    "    vgg[\"regions\"][n][\"shape_attributes\"][\"height\"] = detection[0].get(\"height\")\n",
    "\n",
    "    vgg[\"regions\"][n][\"region_attributes\"] = OrderedDict()\n",
    "    vgg[\"regions\"][n][\"region_attributes\"][\"Class\"] = detection[1].get(\"vehicle_type\")\n",
    "\n",
    "with open(image_path.replace(\"jpg\", \"json\"), \"w\") as f:\n",
    "    json.dump(vgg_main, f)"
   ]
  },
  {
   "cell_type": "code",
   "execution_count": null,
   "metadata": {},
   "outputs": [],
   "source": [
    "# Dado un groundtruth sacar un json por foto\n",
    "gt = \"MVI_20011.xml\"\n",
    "print(os.path.basename(gt[:-4]))\n",
    "folder = os.path.basename(gt[:-4])\n",
    "for image_path in glob.glob('folder + '/*.jpg'):\n",
    "    tree = etree.parse(gt)\n",
    "\n",
    "    # JSON\n",
    "    img = cv2.imread(image_path)\n",
    "    image_size = os.stat(image_path).st_size # Tamanho\n",
    "    image_name = os.path.basename(image_path)    # Nombre\n",
    "\n",
    "    vgg_key = \"{}{}\".format(image_name, image_size)\n",
    "    vgg_main = {vgg_key: OrderedDict()}\n",
    "\n",
    "    # Datos generales\n",
    "    vgg = vgg_main[vgg_key]\n",
    "    vgg[\"fileref\"] = \"\"\n",
    "    vgg[\"size\"] = image_size\n",
    "    vgg[\"filename\"] = image_name\n",
    "    vgg[\"base64_img_data\"] = \"\"\n",
    "    vgg[\"file_attributes\"] = {}\n",
    "    vgg[\"regions\"] = OrderedDict()\n",
    "\n",
    "\n",
    "    # Anotaciones\n",
    "    id = int(os.path.basename(image_path)[3:-4])  # Busco que frame estoy procesando\n",
    "\n",
    "    xml_frame = tree.findall(\"./frame[@num=\\'\" + str(id) + \"\\']/target_list/target\")\n",
    "    for n, detection in enumerate(xml_frame):\n",
    "        n = str(n)\n",
    "\n",
    "        vgg[\"regions\"][n] = OrderedDict()\n",
    "        vgg[\"regions\"][n][\"shape_attributes\"] = OrderedDict()\n",
    "        vgg[\"regions\"][n][\"shape_attributes\"][\"name\"] = \"rect\"\n",
    "        vgg[\"regions\"][n][\"shape_attributes\"][\"x\"] = detection[0].get(\"left\")\n",
    "        vgg[\"regions\"][n][\"shape_attributes\"][\"y\"] = detection[0].get(\"top\")\n",
    "        vgg[\"regions\"][n][\"shape_attributes\"][\"width\"] = detection[0].get(\"width\")\n",
    "        vgg[\"regions\"][n][\"shape_attributes\"][\"height\"] = detection[0].get(\"height\")\n",
    "\n",
    "        vgg[\"regions\"][n][\"region_attributes\"] = OrderedDict()\n",
    "        vgg[\"regions\"][n][\"region_attributes\"][\"Class\"] = detection[1].get(\"vehicle_type\")\n",
    "\n",
    "    \n",
    "    with open(image_path.replace(\"jpg\", \"json\"), \"w\") as f:\n",
    "        json.dump(vgg_main, f)"
   ]
  },
  {
   "cell_type": "code",
   "execution_count": null,
   "metadata": {
    "scrolled": true
   },
   "outputs": [],
   "source": [
    "# Leer todos los groundtruth y exportar todas las anotaciones a archivos individuales\n",
    "for gt in glob.glob(\"Datasets/DETRAC/DETRAC-Train-Annotations-XML/*.xml\"):\n",
    "    print(os.path.basename(gt[:-4]))\n",
    "    folder = os.path.basename(gt[:-4])\n",
    "    \n",
    "    for image_path in glob.glob('Datasets/DETRAC/Insight-MVT_Annotation_Train/' + folder + '/*.jpg'):\n",
    "        tree = etree.parse(gt)\n",
    "        # JSON\n",
    "        img = cv2.imread(image_path)\n",
    "        image_size = os.stat(image_path).st_size # Tamanho\n",
    "        image_name = os.path.basename(image_path)    # Nombre\n",
    "\n",
    "        vgg_key = \"{}{}\".format(image_name, image_size)\n",
    "        vgg_main = {vgg_key: OrderedDict()}\n",
    "\n",
    "        # Datos generales\n",
    "        vgg = vgg_main[vgg_key]\n",
    "        vgg[\"fileref\"] = \"\"\n",
    "        vgg[\"size\"] = image_size\n",
    "        vgg[\"filename\"] = image_name\n",
    "        vgg[\"base64_img_data\"] = \"\"\n",
    "        vgg[\"file_attributes\"] = {}\n",
    "        vgg[\"regions\"] = OrderedDict()\n",
    "\n",
    "\n",
    "        # Anotaciones\n",
    "        id = int(os.path.basename(image_path)[3:-4])  # Busco que frame estoy procesando\n",
    "\n",
    "        xml_frame = tree.findall(\"./frame[@num=\\'\" + str(id) + \"\\']/target_list/target\")\n",
    "        for n, detection in enumerate(xml_frame):\n",
    "            n = str(n)\n",
    "\n",
    "            vgg[\"regions\"][n] = OrderedDict()\n",
    "            vgg[\"regions\"][n][\"shape_attributes\"] = OrderedDict()\n",
    "            vgg[\"regions\"][n][\"shape_attributes\"][\"name\"] = \"rect\"\n",
    "            vgg[\"regions\"][n][\"shape_attributes\"][\"x\"] = detection[0].get(\"left\")\n",
    "            vgg[\"regions\"][n][\"shape_attributes\"][\"y\"] = detection[0].get(\"top\")\n",
    "            vgg[\"regions\"][n][\"shape_attributes\"][\"width\"] = detection[0].get(\"width\")\n",
    "            vgg[\"regions\"][n][\"shape_attributes\"][\"height\"] = detection[0].get(\"height\")\n",
    "\n",
    "            vgg[\"regions\"][n][\"region_attributes\"] = OrderedDict()\n",
    "            vgg[\"regions\"][n][\"region_attributes\"][\"Class\"] = detection[1].get(\"vehicle_type\")\n",
    "\n",
    "\n",
    "        with open(image_path.replace(\"jpg\", \"json\"), \"w\") as f:\n",
    "            json.dump(vgg_main, f)"
   ]
  },
  {
   "cell_type": "markdown",
   "metadata": {},
   "source": [
    "# Pruebas de lectura del archivo XML"
   ]
  },
  {
   "cell_type": "code",
   "execution_count": null,
   "metadata": {},
   "outputs": [],
   "source": [
    "tree = etree.parse('MVI_20011.xml')\n",
    "root = tree.getroot()\n",
    "print(root.attrib)"
   ]
  },
  {
   "cell_type": "code",
   "execution_count": null,
   "metadata": {
    "scrolled": true
   },
   "outputs": [],
   "source": [
    "for child in root:\n",
    "    print(child.attrib)\n",
    "    for nieto in child:\n",
    "        print (nieto.attrib)"
   ]
  },
  {
   "cell_type": "code",
   "execution_count": null,
   "metadata": {},
   "outputs": [],
   "source": [
    "#print([el.attrib.get('num') for el in root.findall('./sequence')])\n",
    "print([el.attrib.get(\"id\") for el in root.findall(\"./*/*/target\")])"
   ]
  },
  {
   "cell_type": "code",
   "execution_count": null,
   "metadata": {},
   "outputs": [],
   "source": [
    "for frame in root.findall(\"./frame\"):\n",
    "    id = frame.attrib.get(\"num\")"
   ]
  },
  {
   "cell_type": "code",
   "execution_count": null,
   "metadata": {},
   "outputs": [],
   "source": [
    "# Imagen\n",
    "image_path = \"MVI_20011/img00001.jpg\"\n",
    "\n",
    "img = cv2.imread(image_path)\n",
    "image_size = os.stat(image_path).st_size\n",
    "image_name = \"{}.png\".format(\"hola\")\n",
    "\n",
    "vgg_key = \"{}{}\".format(image_name, image_size)\n",
    "vgg_main = {vgg_key: OrderedDict()}\n",
    "\n",
    "vgg = vgg_main[vgg_key]\n",
    "vgg[\"fileref\"] = \"\"\n",
    "vgg[\"size\"] = image_size\n",
    "vgg[\"filename\"] = image_name\n",
    "vgg[\"base64_img_data\"] = \"\"\n",
    "vgg[\"file_attributes\"] = {}\n",
    "vgg[\"regions\"] = OrderedDict()\n",
    "\n",
    "print(vgg)\n",
    "print(int(image_path[13:-4]))\n",
    "id = int(image_path[13:-4])"
   ]
  },
  {
   "cell_type": "code",
   "execution_count": null,
   "metadata": {},
   "outputs": [],
   "source": [
    "xml_frame = tree.findall(\"./frame[@num=\\'\" + str(id) + \"\\']/target_list/target\")\n",
    "for n, detection in enumerate(xml_frame):\n",
    "    print(n)\n",
    "    print (detection[0].get(\"left\"))\n",
    "    print (detection[0].get(\"top\"))\n",
    "    print (detection[0].get(\"width\"))\n",
    "    print (detection[0].get(\"height\"))\n",
    "    print (detection[1].get(\"vehicle_type\"))\n",
    "    #print(detection.attrib)"
   ]
  }
 ],
 "metadata": {
  "kernelspec": {
   "display_name": "Python 3",
   "language": "python",
   "name": "python3"
  },
  "language_info": {
   "codemirror_mode": {
    "name": "ipython",
    "version": 3
   },
   "file_extension": ".py",
   "mimetype": "text/x-python",
   "name": "python",
   "nbconvert_exporter": "python",
   "pygments_lexer": "ipython3",
   "version": "3.6.4"
  }
 },
 "nbformat": 4,
 "nbformat_minor": 1
}
